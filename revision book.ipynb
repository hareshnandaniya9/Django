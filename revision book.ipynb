{
 "cells": [
  {
   "cell_type": "code",
   "execution_count": 2,
   "id": "8e8186e8",
   "metadata": {},
   "outputs": [
    {
     "name": "stdout",
     "output_type": "stream",
     "text": [
      "hello python\n",
      "\n",
      "hello world! Are you doing great?\n",
      "\n"
     ]
    }
   ],
   "source": [
    "#-------------------------------FIRST PYTHON PROGRAM-------------------------------------------------#\n",
    "\n",
    "print(\"hello python\")\n",
    "print()\n",
    "print(\"hello world!\", end = \" \" )\n",
    "print(\"Are you doing great?\")\n",
    "print()\n"
   ]
  },
  {
   "cell_type": "code",
   "execution_count": null,
   "id": "b008a1f1",
   "metadata": {},
   "outputs": [],
   "source": [
    "#variable ruels\n",
    "'''\n",
    "1.no numericals \n",
    "2.no special characters\n",
    "3.case sensitive \n",
    "4.no inbuilt keywords \n",
    "\n",
    "'''"
   ]
  },
  {
   "cell_type": "code",
   "execution_count": 3,
   "id": "4c187061",
   "metadata": {},
   "outputs": [
    {
     "name": "stdout",
     "output_type": "stream",
     "text": [
      "['False', 'None', 'True', '__peg_parser__', 'and', 'as', 'assert', 'async', 'await', 'break', 'class', 'continue', 'def', 'del', 'elif', 'else', 'except', 'finally', 'for', 'from', 'global', 'if', 'import', 'in', 'is', 'lambda', 'nonlocal', 'not', 'or', 'pass', 'raise', 'return', 'try', 'while', 'with', 'yield']\n"
     ]
    }
   ],
   "source": [
    "#python key word\n",
    "import keyword\n",
    "print(keyword.kwlist)"
   ]
  },
  {
   "cell_type": "code",
   "execution_count": null,
   "id": "22946f89",
   "metadata": {
    "scrolled": true
   },
   "outputs": [],
   "source": [
    "#---------------------------------PYTHON LITERLS-----------------------------------------------------#\n",
    "\n",
    "#I. STRING LITERLS: \n",
    "\n",
    "\n",
    "#single line string\n",
    "print(\"THIS IS SINGLE LINE STRING\")\n",
    "print(\"haresh\")\n",
    "print('haresh')\n",
    "print(\"haresh's father\")\n",
    "print('''hello \"haresh's\" father''')\n",
    "print()\n",
    "#multiline string\n",
    "print(\"[THIS IS MULTILINE STRING ]\")\n",
    "                                        #using black slash\n",
    "print(\"hello\\\n",
    " haresh\\\n",
    " wellcome\\\n",
    " to\\\n",
    " python classs\")\n",
    "print()\n",
    "\n",
    "print('''hello\n",
    "haresh\n",
    "wellcome\n",
    "to\n",
    "python classs''')                        #Using triple quotation marks\n",
    "print()\n",
    "print(\"[NEW LINE]\")\n",
    "print(\"hello\\nharesh\\nwellcome\\nto\\npython classs\")     #USNING \\N\n",
    "print()\n",
    "\n",
    "#SPACE\n",
    "str1 = 'xyz\\t123\\tabc\\tmin'\n",
    "result = str1.expandtabs(5)\n",
    "print(result)\n",
    "print()\n",
    "\n",
    "#II.NUMERIC LITERALS:\n",
    "\n",
    "print(\"1.integer literals is:100\")\n",
    "print(\"2.float  literals is:10.5\")\n",
    "print(\"3.boolean  literals is:'true','false'\")\n",
    "print(\"4.long literals is:12345678L\")\n",
    "print(\"5.complex  literals is:3.14j\")\n",
    "print(\"6.special  literals is:'none'\")\n",
    "\n",
    "print()\n",
    "#LITERAL COLLECTION. \n",
    "print(\"1.tuples is literal collection\") \n",
    "print(\"2.lists is lteral collection\")\n",
    "print(\"3.Dictionary is leteral collection\")\n",
    "print(\"3.Set is leteral collection\")"
   ]
  },
  {
   "cell_type": "code",
   "execution_count": null,
   "id": "86bb8f47",
   "metadata": {},
   "outputs": [],
   "source": [
    "operators in python :\n",
    "\n",
    "1.arithmethic\n",
    "2.assignment\n",
    "3.comparision\n",
    "4.logical\n",
    "5.identity\n",
    "6.membership\n",
    "7.binary bitwise\n",
    "8.shift operators"
   ]
  },
  {
   "cell_type": "code",
   "execution_count": null,
   "id": "9f0f5228",
   "metadata": {},
   "outputs": [],
   "source": [
    "# bitwise operators\n",
    "\n",
    "a = 7\n",
    "b = 4\n",
    "\n",
    "# Print bitwise AND operation\n",
    "print(\"a & b =\", a & b)\n",
    "\n",
    "# Print bitwise OR operation\n",
    "print(\"a | b =\", a | b)\n",
    "\n",
    "# Print bitwise NOT operation\n",
    "print(\"~a =\", ~a)\n",
    "#??\n",
    "\n",
    "# print bitwise XOR operation\n",
    "print(\"a ^ b =\", a ^ b)"
   ]
  },
  {
   "cell_type": "code",
   "execution_count": null,
   "id": "0a8784ac",
   "metadata": {},
   "outputs": [],
   "source": [
    " #bitwise XOR..True only if operators are diffrent \n",
    " #bitwise OR..True only if any of the operator is True\n",
    " #bitwise AND..True only if both the operators are True\n",
    "\n",
    "x = 4  \n",
    "x ^= 7 \n",
    "print(x)\n",
    "# x = x ^ 7\n",
    "# x = 000 ^ 111 = 111\n",
    "\n",
    "#or\n",
    "\n",
    "x = 5\n",
    "x |= 4\n",
    "\n",
    "print(x)\n",
    "\n",
    "#  x = x | 4\n",
    "#  x = 5 | 4\n",
    "#  x = 101  |   100\n",
    "#       101\n",
    "\n",
    "#and\n",
    "x = 4\n",
    "x &= 5 \n",
    "\n",
    "print(x)\n",
    "\n",
    "# x = x & 5 \n",
    "# x = 4 & 5\n",
    "# x = 100 \n",
    "#  &  101\n",
    "#     100 (4)"
   ]
  },
  {
   "cell_type": "code",
   "execution_count": 4,
   "id": "7d2699d9",
   "metadata": {},
   "outputs": [
    {
     "name": "stdout",
     "output_type": "stream",
     "text": [
      "8\n",
      "3\n"
     ]
    }
   ],
   "source": [
    "#bitwise oprator\n",
    "#bitwise right shift..decreases the value\n",
    "x = 4 \n",
    "x <<= 1\n",
    "print(x)\n",
    "#bitwise right shift..decreases the value\n",
    "x = 7 \n",
    "x >>= 1\n",
    "print(x)"
   ]
  },
  {
   "cell_type": "code",
   "execution_count": null,
   "id": "27ddfdd8",
   "metadata": {},
   "outputs": [],
   "source": [
    "#------------------------------------------ARITHMETIC OPRATORS.---------------------------------------------------------------#\n",
    "'''\n",
    "1.SUM(+)\n",
    "2.SUBSTRACT(-)\n",
    "3.MULTIPLY(*)\n",
    "4.DIVID(/)\n",
    "5.FLOOR DIVISION(//)\n",
    "6.MODULO(%)\n",
    "7.POWER(**)\n",
    "'''\n",
    "def add(x,y):\n",
    "    return x+y\n",
    "def sub (x,y):\n",
    "    return x-y\n",
    "def mul (x,y):\n",
    "    return x*y\n",
    "def div (x,y):\n",
    "    return x/y\n",
    "def floordivision(x,y):\n",
    "    return x//y\n",
    "def modulo(x,y):\n",
    "    return x%y\n",
    "def power(x,y):\n",
    "    return x**y\n",
    "\n",
    "print(\"enter choice opration:\")\n",
    "print(\"1.add:\")\n",
    "print(\"2.sub:\")\n",
    "print(\"3.mul:\")\n",
    "print(\"4.div:\")\n",
    "print(\"5.floordivision:\")\n",
    "print(\"6.modulo:\")\n",
    "print(\"7.power:\")\n",
    "\n",
    "while True:\n",
    "    choice=input(\"enter your choice(1/2/3/4/5/6/7)\")\n",
    "    if choice in ('1','2','3','4','5','6','7'):\n",
    "        num1=float(input(\"enter first:\"))\n",
    "        num2=float(input(\"enter second:\"))\n",
    "\n",
    "        if (choice=='1'):\n",
    "            print(num1, \"+\",num2, \"=\",add(num1,num2))\n",
    "        elif (choice=='2'):\n",
    "            print(num1, \"-\",num2, \"=\",sub(num1,num2))\n",
    "        elif (choice=='3'):\n",
    "            print(num1, \"*\",num2, \"=\",mul(num1,num2))\n",
    "        elif (choice=='4'):\n",
    "            print(num1, \"/\",num2, \"=\",div(num1,num2))\n",
    "        elif (choice=='5'):\n",
    "            print(num1, \"//\",num2, \"=\",floordivision(num1,num2))\n",
    "        elif (choice=='6'):\n",
    "            print(num1, \"%\",num2, \"=\",modulo(num1,num2))\n",
    "        elif (choice=='7'):\n",
    "            print(num1, \"**\",num2, \"=\",power(num1,num2))\n",
    "        nextcal=input(\"let start again?(yes/no):\")\n",
    "        if (nextcal==\"no\"):\n",
    "            print(\"thaks for use calculator:\")\n",
    "            break\n",
    "            \n",
    "\n",
    "    else:\n",
    "        print(\"invalid input:\")\n",
    "\n"
   ]
  },
  {
   "cell_type": "code",
   "execution_count": null,
   "id": "6553e1c0",
   "metadata": {},
   "outputs": [],
   "source": [
    "#------------------------------------------RELATIONAL OPRATORS.---------------------------------------------------------------# \n",
    "\n",
    "'''\n",
    "1.GREATER THAN(>)\n",
    "2.LESS THAN(<)\n",
    "3.GREATER THAN OR EQUAL TO(>=)\n",
    "4.LESS than or equal to(<=)\n",
    "5.EQUAL TO (=)\n",
    "6.NOT EQUAL TO (!=)\n",
    "7.NOT EQUAL TO (<>)\n",
    "'''\n",
    "a1=17\n",
    "a2=14\n",
    "print(\"less than:\",a1,\"<\",a2,\"=\",a1<a2)\n",
    "print(\"less than or equal to:\",a1,\"<=\",a2,\"=\",a1<=a2)\n",
    "print(\"greater than:\",a1,\">\",a2,\"=\",a1>a2)\n",
    "print(\"greater than or equal to :\",a1,\">=\",a2,\"=\",a1>=a2)\n",
    "print(\"equal to:\",a1,\"==\",a2,\"=\",a1==a2)\n",
    "print(\"not equal to:\",a1,\"!=\",a2,\"=\",a1!=a2)\n",
    "\n"
   ]
  },
  {
   "cell_type": "code",
   "execution_count": null,
   "id": "e09ded2b",
   "metadata": {},
   "outputs": [],
   "source": [
    "#------------------------------------------ASSIGNMENT OPRATORS.---------------------------------------------------------------# \n",
    "'''\n",
    "1.assign(=)\n",
    "2.Divide and Assign(/=)\n",
    "3.Add and assign (+=)\n",
    "4.Subtract and Assign(-=)\n",
    "5.Multiply and assign(*=)\n",
    "6.Modulus and assign(%=)\n",
    "7.Exponent and assign(**=)\n",
    "8.Floor division and assign(//=)\n",
    "'''\n",
    "a=50            #assign(a=50)\n",
    "print(a)\n",
    "a+=5            #add and assign(a+5=55)\n",
    "print(a)\n",
    "a-=5            #substract and assign(a-5=50)\n",
    "print(a)\n",
    "a*=5            #multiply and assign(a*5=250)\n",
    "print(a)\n",
    "a/=5            #divid and assign(a/5=50)\n",
    "print(a)\n",
    "a//=5           #floor division and assign(a//5=10)\n",
    "print(a)\n",
    "a**=5           #power and assign(a**5=100000)\n",
    "print(a)\n",
    "a%=5            #modulo and assign(a%5=00)\n",
    "print(a)"
   ]
  },
  {
   "cell_type": "code",
   "execution_count": null,
   "id": "13b710a9",
   "metadata": {},
   "outputs": [],
   "source": [
    "#assignment oprator\n",
    "\n",
    "= x = 5\tx = 5\n",
    "+=\tx += 3\tx = x + 3\n",
    "-=\tx -= 3\tx = x - 3\n",
    "*=\tx *= 3\tx = x * 3\n",
    "/=\tx /= 3\tx = x / 3\n",
    "%=\tx %= 3\tx = x % 3\n",
    "//=\tx //= 3\tx = x // 3\n",
    "**=\tx **= 3\tx = x ** 3\n",
    "&=\tx &= 3\tx = x & 3\n",
    "|=\tx |= 3\tx = x | 3\n",
    "^=\tx ^= 3\tx = x ^ 3\n",
    ">>=\tx >>= 3\tx = x >> 3\n",
    "<<=\tx <<= 3\tx = x << 3"
   ]
  },
  {
   "cell_type": "code",
   "execution_count": null,
   "id": "ffaa0c93",
   "metadata": {},
   "outputs": [],
   "source": [
    "#------------------------------------------LOGICAL OPRATORS.---------------------------------------------------------------# \n",
    "#using leap year\n",
    "'''\n",
    "1.and(When both conditions are true output will be true)\n",
    "2.or(If any one condition is true output will be true)\n",
    "3.not(Compliment the condition)\n",
    "'''\n",
    "h=3\n",
    "v=5\n",
    "r=15\n",
    "print(\"TRY AND OPRATOR\")\n",
    "a=h<v and v<r\n",
    "print(h,\"<\",v,\"and\",v,\"<\",r,a)\n",
    "a=v<h and v<r\n",
    "print(v,\"<\",h,\"and\",v,\"<\",r,a)\n",
    "print()\n",
    "print(\"TRY OR OPRATOR\")\n",
    "b=h<v or 5<15\n",
    "print(h,\"<\",v,\"and\",v,\"<\",r,b)\n",
    "b=5<3 or 5<15\n",
    "print(b)\n",
    "print()\n",
    "print(\"TRY NOT OPRATOR\")\n",
    "c=not(5>4)\n",
    "print(c)\n",
    "c=not(4>5)\n",
    "print(c)"
   ]
  },
  {
   "cell_type": "code",
   "execution_count": null,
   "id": "8ceb4f1a",
   "metadata": {},
   "outputs": [],
   "source": [
    "#------------------------------------------MEMBERSHIP OPRATORS.---------------------------------------------------------------# \n",
    "'''\n",
    "1.in(Returns true if a variable is in sequence of another variable, else false.)\n",
    "2.not in (Returns true if a variable is not in sequence of another variable, else false.)\n",
    "'''\n",
    "list1=[\"haresh\",2,4,5,7,8,\"ram\"]\n",
    "list2=[\"h\",2,5,4,7,8,\"a\",\"ram\"]\n",
    "print(\"try in oprator\")\n",
    "list3=list1 in list2\n",
    "print(list3)\n",
    "print()\n",
    "print(\"try not in oprator\")\n",
    "list3=list1 not in list2\n",
    "print(list3)"
   ]
  },
  {
   "cell_type": "code",
   "execution_count": null,
   "id": "82b6aa76",
   "metadata": {},
   "outputs": [],
   "source": [
    "#------------------------------------------IDENTITY OPRATORS.---------------------------------------------------------------# \n",
    "'''\n",
    "1.is (Returns true if identity of two operands are same, else false )\n",
    "2.is not (Returns true if identity of two operands are not same, else false.)\n",
    "'''\n",
    "a=20\n",
    "b=25\n",
    "print(\"try is or is not oprator\")\n",
    "c=a is b\n",
    "print(c)\n",
    "c=a is not b\n",
    "print(c)\n",
    "print()\n"
   ]
  },
  {
   "cell_type": "code",
   "execution_count": null,
   "id": "19906b2d",
   "metadata": {},
   "outputs": [],
   "source": [
    "#------------------------------------------PYTHON COMMENT---------------------------------------------------------------------# \n",
    "'''\n",
    "1.SINGLE LINE COMMENT(SYMBOL=#)\n",
    "2.MULTI LINE COMMENT\n",
    "'''\n",
    "#this is single line comment\n",
    "'''\n",
    "this\n",
    "is                                           \n",
    "multi\n",
    "line\n",
    "comment\n",
    "'''"
   ]
  },
  {
   "cell_type": "code",
   "execution_count": null,
   "id": "12a8864e",
   "metadata": {},
   "outputs": [],
   "source": [
    "#--------------------------------------------PROGRAM---------------------------------------------------------------------------#"
   ]
  },
  {
   "cell_type": "code",
   "execution_count": 2,
   "id": "8b041e3a",
   "metadata": {
    "scrolled": true
   },
   "outputs": [
    {
     "name": "stdout",
     "output_type": "stream",
     "text": [
      "enter a : 4\n",
      "enter b : 5\n",
      "enter c : 8\n",
      "c is greatest\n"
     ]
    }
   ],
   "source": [
    "#--------------------------------------PYTHON CONTROL STATEMENT----------------------------------------------------------------#\n",
    "'''\n",
    "1.if statement\n",
    "2.if else statement\n",
    "3. nested if statement\n",
    "'''\n",
    "#if statement\n",
    "print(\"if statement\")\n",
    "print()\n",
    "a=10\n",
    "if(a==10):\n",
    "    print(\"this is only if statement:\")\n",
    "print()\n",
    "\n",
    "#if-else statement\n",
    "print(\"if else statement\")\n",
    "print()\n",
    "a=int(input(\"enter first num:\"))\n",
    "b=int(input(\"ente second number\"))\n",
    "c=a+b\n",
    "if(c<a):\n",
    "    print(\"c small to a\",c,\"<\",a)\n",
    "else:\n",
    "    print(\"c is greter to a\",c,\">\",a)\n",
    "print()\n",
    "\n",
    "print(\"nested if statement\")\n",
    "print()\n",
    "num1=float(input(\"enter first number:\"))\n",
    "num2=float(input(\"enter second number:\"))\n",
    "\n",
    "if(num1>num2):\n",
    "    print(num1 ,\"is greatre than  \",num2)\n",
    "elif(num1<num2):\n",
    "    print(num1 ,\"is less than\",num2)\n",
    "elif(num1==num2):\n",
    "    print(num1 ,\"is equal to\",num2)\n",
    "\n",
    "#nested if else\n",
    "a = int(input(\"enter a : \"))\n",
    "b = int(input(\"enter b : \"))\n",
    "c = int(input(\"enter c : \"))\n",
    "\n",
    "if(a > b):\n",
    "  if (a>c):\n",
    "    print(\"a is greatest\")\n",
    "  else: \n",
    "    print(\"c is greatest\")\n",
    "elif (b>c):\n",
    "  print(\"b is greatest\")\n",
    "else:\n",
    "  print(\"c is greatest\") "
   ]
  },
  {
   "cell_type": "code",
   "execution_count": null,
   "id": "bd196e71",
   "metadata": {
    "scrolled": true
   },
   "outputs": [],
   "source": [
    "#-----------------------------------------------------LOOP---------------------------------------------------------------------#\n",
    "'''\n",
    "1.FOR LOOP\n",
    "2.NESTED FOR LOOP\n",
    "3.WHILE LOOP\n",
    "'''\n",
    "print(\"use for loop\")\n",
    "num=int(input(\"Enter number:\"))\n",
    "for i in range(1,11):\n",
    "    print(i*num)\n",
    "for i in range(1,11):\n",
    "    print(i)\n",
    "print()\n",
    "mul=5\n",
    "for i in range(1,11):\n",
    "    \n",
    "    if (i%2==0):\n",
    "        a=mul\n",
    "        mul=mul*i\n",
    "        print('{0} * {1} = {2}:'.format(a,i,mul))\n",
    "        print()\n",
    "num=int(input(\"Enter number:\"))\n",
    "for i in range(1,11):\n",
    "    a=num*i\n",
    "    print(\"{0}*{1}={2}:\".format(num,i,a))\n",
    "\n",
    "print()\n",
    "print(\"nested loop\")\n",
    "for i in range(1, 6):\n",
    "\n",
    "    for k in range(i, 11):\n",
    "        print(' ', end ='')\n",
    "        \n",
    "    for j in range(1, i+1):\n",
    "        print(j, end =' ')\n",
    "    print()\n",
    "\n",
    "print(\"while loop\")\n",
    "#armstong number\n",
    "num=int(input(\"enter number:\"))\n",
    "sum=0\n",
    "\n",
    "org=num\n",
    "while org>0:\n",
    "    digit=org % 10\n",
    "    sum += digit **3\n",
    "    org//=10\n",
    "    \n",
    "\n",
    "if num==sum:\n",
    "    print(num,\"is an armstrong number\")\n",
    "else:\n",
    "    print(num,\"is not an armstrong number\")\n",
    "\n",
    "\n"
   ]
  },
  {
   "cell_type": "code",
   "execution_count": null,
   "id": "32350be3",
   "metadata": {
    "scrolled": true
   },
   "outputs": [],
   "source": [
    "#----------------------------------------BREAK ,PASS,CONTINUE STATMENT--------------------------------------------------------#\n",
    "list1=[1,2,3,4,5,6,7,8,9]\n",
    "\n",
    "#break\n",
    "\n",
    "print(\"use break\")\n",
    "for i in list1:\n",
    "    if(i==4):\n",
    "        break\n",
    "    print(i)\n",
    "print()\n",
    "\n",
    "#pass\n",
    "\n",
    "print(\"use pass\")\n",
    "for i in list1:\n",
    "    if (i==4):\n",
    "        pass\n",
    "    print(i)\n",
    "print()\n",
    "\n",
    "#continue\n",
    "\n",
    "print(\"use continue\")\n",
    "for i in range(1, 11):\n",
    "  if i%2 == 0:\n",
    "    print(\"somthing\")\n",
    "    continue\n",
    "    print(\"after\")\n",
    "    \n",
    "  else:\n",
    "    print(i)\n",
    "\n",
    "print(\"loop over\")"
   ]
  },
  {
   "cell_type": "code",
   "execution_count": null,
   "id": "d0877074",
   "metadata": {},
   "outputs": [],
   "source": []
  },
  {
   "cell_type": "code",
   "execution_count": null,
   "id": "853a3c0c",
   "metadata": {},
   "outputs": [],
   "source": [
    "#--------------------------------------------STRINGS---------------------------------------------------------------------------#"
   ]
  },
  {
   "cell_type": "code",
   "execution_count": null,
   "id": "259684e0",
   "metadata": {},
   "outputs": [],
   "source": [
    "#--------------------------------------------BASIC OPERATORS-------------------------------------------------------------------#\n",
    "'''\n",
    "1. Basic Operators. \n",
    "   I. Concatenation Operator (+)\n",
    "   II.Replicating Operator (*)\n",
    "\n",
    "3. Relational Operators\n",
    "'''\n",
    "#String Concatenation Operator (+) \n",
    "str1=input(\"Enter str1:\")\n",
    "str2=input(\"Enter str2:\")\n",
    "str3=str1 + str2\n",
    "print(str3)\n",
    "print()\n",
    "'''\n",
    "a=\"haresh\"\n",
    "b=12\n",
    "c=a+b\n",
    "print(c)                   #TypeError: can only concatenate str (not \"int\") to str\n",
    "print()\n",
    "'''\n",
    "#String Replicating Operator (*)\n",
    "#NOTE: We can use Replication operator in any way i.e., int * string or string * int. \n",
    "#Both the parameters passed cannot be of same type. \n",
    "str1=input(\"Enter str1:\")\n",
    "num=int(input(\"Enter str2:\"))\n",
    "str3=str1 * num\n",
    "print(str3)\n",
    "print()"
   ]
  },
  {
   "cell_type": "code",
   "execution_count": null,
   "id": "e378b857",
   "metadata": {},
   "outputs": [],
   "source": [
    "#--------------------------------------------MEMBERSHIP OPERATORS--------------------------------------------------------------#\n",
    "'''\n",
    "1.IN\n",
    "2.NOT IN\n",
    "'''\n",
    "str1=\"hello haresh nandaniya how are you?\"\n",
    "str2=\"?\"\n",
    "str3=\"nandaniya?\"\n",
    "print(\"in\")\n",
    "print(str2 in str3)\n",
    "print(str2 in str1)\n",
    "print()\n",
    "print(\"not in \")\n",
    "print(str2 not in str1)\n"
   ]
  },
  {
   "cell_type": "code",
   "execution_count": 4,
   "id": "5fe3c972",
   "metadata": {},
   "outputs": [
    {
     "name": "stdout",
     "output_type": "stream",
     "text": [
      "equal to\n",
      "True\n",
      "\n",
      "less than\n",
      "a is less than A: False\n",
      "\n",
      "greter than \n",
      "A is greter than a: False\n"
     ]
    }
   ],
   "source": [
    "#--------------------------------------------RELATIONAL OPERATORS--------------------------------------------------------------#\n",
    "str1=\"a\"\n",
    "str2=\"A\"\n",
    "str3=\"a\"\n",
    "print(\"equal to\")\n",
    "print(str1 == str3)\n",
    "print()\n",
    "print(\"less than\")\n",
    "print(\"a is less than A:\",str1<str2)#becouse ancii value of a=97 and A=65\n",
    "print()\n",
    "print(\"greter than \")\n",
    "print(\"A is greter than a:\",str2 > str1)\n"
   ]
  },
  {
   "cell_type": "code",
   "execution_count": null,
   "id": "0f5174be",
   "metadata": {},
   "outputs": [],
   "source": [
    "#--------------------------------------------------STRING SLICING--------------------------------------------------------------#\n",
    "str1=\"son of murlidhar\"\n",
    "a=len(str1)\n",
    "print(a)\n",
    "print()\n",
    "str1=\"son of murlidhar\"\n",
    "a=len(str1)\n",
    "print(\"lenth of givin string is:\",a)\n",
    "print(str1[0:6])\n",
    "print()\n",
    "print(str1[0:])                             #all string show\n",
    "print()\n",
    "print(str1[0])                              #only first later show\n",
    "print()\n",
    "print(str1[-1])                             #only last ;ater show\n",
    "print()\n",
    "print(str1[-3])                             #only last to 3 number later show\n",
    "print()\n",
    "print(str1[0:10:2])\n",
    "print()\n",
    "print(str1[4:])\n",
    "print()\n",
    "print(str1[-10:-1])\n",
    "print()\n",
    "print(str1[:-1])                            #last later count naithay\n",
    "print()\n",
    "print(str1[0:5])#son o (start left side)\n",
    "print()\n",
    "print(str1[-16:-11])#son o (str right side)\n"
   ]
  },
  {
   "cell_type": "code",
   "execution_count": null,
   "id": "52ba9cf4",
   "metadata": {},
   "outputs": [],
   "source": [
    "#--------------------------------STRING FUNCTION-----------------------------------------------------#\n",
    "#user and passwad\n",
    "#lower()    \n",
    "#print(s.casefold())\n",
    "#print(s.center(40,\"*\"))\n",
    "#print(\"frienis\".replace(\"i\", \"o\"))\n",
    "str=input(\"Enter String:\")\n",
    "print(\"now your string are convert lower case:\",str.lower())          #all string convert capital to small\n",
    "print()\n",
    "#upper()\n",
    "print(\"now your string are convert upper case:\",str.upper())          #all string covert small to capital\n",
    "print()\n",
    "#capitalize()                                                                    \n",
    "print(\"now your string are convert capitalize:\",str.capitalize())     #first later convert small to capital\n",
    "print()\n",
    "#title()\n",
    "print(\"now your string are convert title:\",str.title())               #perticular string first later convert to capital\n",
    "print()\n",
    "#swapcase()\n",
    "print(\"now your string are convert swapcase:\",str.swapcase())         #swapcase is convert small to capital and capital to small\n",
    "print()\n",
    "#islower()\n",
    "print(\"now your string are convert islower case:\",str.islower())          #all string are small than \"true\",another \"false\"\n",
    "print()\n",
    "#isupper()\n",
    "print(\"now your string are convert isupper case:\",str.isupper())          #all string are capital than \"true\",another \"false\"\n",
    "print()\n",
    "#isalpha()\n",
    "print(\"now your string are convert isalpha case:\",str.isalpha()) #space not in string than \"true\",another \"false\"(not use digit)\n",
    "print()\n",
    "#isdigit()\n",
    "print(\"now your string are convert isdigit case:\",str.isdigit())          #all string are digit than \"true\",another \"false\"\n",
    "print()\n",
    "#isalnum()\n",
    "print(\"now your string are convert isalnum case:\",str.isalnum()) #space not in string than \"true\",another \"false\"(string+digit)\n",
    "print()\n",
    "#isspace()\n",
    "print(\"now your string are convert isspace case:\",str.isspace()) #only blank space consider \"truer\" othetthan \"false\"\n",
    "print()\n",
    "#\n",
    "print(\"now your string are convert isspace case:\",str.isspace()) #only blank space consider \"truer\" othetthan \"false\"\n",
    "print()\n"
   ]
  },
  {
   "cell_type": "code",
   "execution_count": null,
   "id": "e5b20ec8",
   "metadata": {},
   "outputs": [],
   "source": [
    "#-------------------------------------------------STRING METHOD----------------------------------------------------------------#\n",
    "#(if-else)\n",
    "#len(argument)\n",
    "msg = input(\"Enter Your String:\")                            #enteryour main string\n",
    "print()\n",
    "\n",
    "print(\"your string:\",msg)                                    #print your enter main string\n",
    "print()\n",
    "\n",
    "print(\"lenth of given string:\",len(msg))                     #count lenth of given main string\n",
    "print()\n",
    "\n",
    "#------------------------------------------------------------------------------------------------------------------------------#                     \n",
    "#count(str,start,end)\n",
    "#syntax:-mainstring.count(substrname,starting,ending)\n",
    "substr1 =input(\"Which Latter Count:\")                          #enter sub string(which latter count)\n",
    "\n",
    "pcount=msg.count(substr1, 0, 16)                               #individual later count in a string\n",
    "print(substr1,'=',pcount)\n",
    "print()\n",
    "#------------------------------------------------------------------------------------------------------------------------------#\n",
    "#find(str,start,end)\n",
    "#syntax:-mainstring.find(substrname,starting,ending)\n",
    "\n",
    "\n",
    "substr1=input(\"which word find:\")                   #to find index is first is come(ex=haresh,find=\"h\",index=0)\n",
    "print (msg.find(substr1,5,10))\n",
    "print()\n",
    "#------------------------------------------------------------------------------------------------------------------------------#\n",
    "#index\n",
    "#syntax:-mainstring.find(substrname,starting,ending)\n",
    "\n",
    "\n",
    "substr1=input(\"which word index find:\")                   #to find index is first is come(ex=haresh,find=\"h\",index=0)\n",
    "print (msg.index(substr1))\n",
    "print()\n",
    "#------------------------------------------------------------------------------------------------------------------------------#\n",
    "#startswith(str,start,end)\n",
    "#syntax:-mainstring.startswith(substrname,starting,ending)\n",
    "\n",
    "\n",
    "substr1=input(\"give your starting word:\")                   #sting starting word is find givin anser is \"true\" another \"false\"\n",
    "print (msg.startswith(substr1))\n",
    "print()\n",
    "#------------------------------------------------------------------------------------------------------------------------------#\n",
    "#endswith(str,start,end)\n",
    "#syntax:-mainstring.endswith(substrname,starting,ending)\n",
    "\n",
    "\n",
    "substr1=input(\"give your ending word:\")                   #sting ending word is find givin anser is \"true\" another \"false\"\n",
    "print (msg.endswith(substr1))\n",
    "print()\n",
    "#------------------------------------------------------------------------------------------------------------------------------#\n",
    "#lstrip()\n",
    "print (msg.lstrip())                                     #remove left side space\n",
    "print()\n",
    "\n",
    "#------------------------------------------------------------------------------------------------------------------------------#\n",
    "#rstrip()\n",
    "print (msg.rstrip())                                     #remove right side space"
   ]
  },
  {
   "cell_type": "code",
   "execution_count": null,
   "id": "e28c9eb9",
   "metadata": {},
   "outputs": [],
   "source": [
    "#-----------------------------------------------------LIST---------------------------------------------------------------------#"
   ]
  },
  {
   "cell_type": "code",
   "execution_count": null,
   "id": "5978fa15",
   "metadata": {},
   "outputs": [],
   "source": [
    "#LIST Concatenation Operator (+) \n",
    "list1=input(\"Enter list1:\")\n",
    "list2=input(\"Enter list2:\")\n",
    "list3=[list1] + [list2]\n",
    "print(list3)\n",
    "print()\n",
    "\n",
    "#String Replicating Operator (*)\n",
    "#NOTE: We can use Replication operator in any way i.e., int * string or string * int. \n",
    "#Both the parameters passed cannot be of same type. \n",
    "list1=input(\"Enter list1:\")\n",
    "num=int(input(\"Enter num:\"))\n",
    "list=[list1] * num\n",
    "print(list)\n",
    "print()"
   ]
  },
  {
   "cell_type": "code",
   "execution_count": null,
   "id": "0e919cbc",
   "metadata": {},
   "outputs": [],
   "source": [
    "#--------------------------------------------------LIST SLICING----------------------------------------------------------------#\n",
    "s = \"tops technologies\"\n",
    "for i in s:\n",
    "  print(i)\n",
    "#SLICING\n",
    "print(s[3])\n",
    "print(s[2:14:2])\n",
    "print(s[0:15:2])\n",
    "print(s[-10:-5])\n",
    "print(s[::-1])\n",
    "print(s[:10:-1])            #Que\n",
    "print(s[::2])\n",
    "print(s[3::-1])"
   ]
  },
  {
   "cell_type": "code",
   "execution_count": null,
   "id": "4675cbda",
   "metadata": {},
   "outputs": [],
   "source": [
    "#--------------------------------------------------LIST OPRATION---------------------------------------------------------------#\n",
    "'''\n",
    "1.Updating \n",
    "2.Appending\n",
    "3.Deleting\n",
    "'''\n",
    "#updating\n",
    "\n",
    "l1=[1714,\"dax\",7881,'a',8,10,\"ram\"]\n",
    "print(\"orignal list:\",l1)\n",
    "print()\n",
    "l1[2]=\"ram\"\n",
    "print(\"after update list is:\",l1)\n",
    "print()\n",
    "\n",
    "#appending\n",
    "\n",
    "list1=[10,\"rahul\",'z']\n",
    "print(\"orignal list:\",list1)\n",
    "list1.append(10.45)\n",
    "print(\"after appending list is:\",list1)\n",
    "print()\n",
    "\n",
    "#deleting\n",
    "\n",
    "list1=[10,'rahul',50.8,'a',20,30,1,2,3,4,5]\n",
    "print(\"your list is:\",list1)\n",
    "del list1[0]\n",
    "print(\"delet single element[0]:\",list1)\n",
    "del list1[0:3]   \n",
    "print(\"delet with given range[0,3]:\",list1)\n"
   ]
  },
  {
   "cell_type": "code",
   "execution_count": null,
   "id": "b1bca702",
   "metadata": {},
   "outputs": [],
   "source": [
    "#-----------------------------------------------------LIST METHOD--------------------------------------------------------------#\n",
    "'''\n",
    "1.maximum\n",
    "2.minimum\n",
    "3.Length of list\n",
    "4.list(sequence)\n",
    "'''\n",
    "list1=[101,981,'abcd','xyz','m']   #only digit\n",
    "\n",
    "#minimum\n",
    "\n",
    "list2=[25,323,541,515,45,12,15,16,11,18,17,64,65,56]\n",
    "print(\"your list is:\",list2)\n",
    "print()\n",
    "print(\"Minimum value in List1:\",min(list2))\n",
    "print()\n",
    "\n",
    "#maximu\n",
    "\n",
    "list2=[25,323,541,515,45,12,15,16,11,18,17,64,65,56]\n",
    "print(\"your list is:\",list2)\n",
    "print()\n",
    "print(\"maximum value in List1:\",max(list2))\n",
    "print()\n",
    "\n",
    "#length of list\n",
    "\n",
    "list2=[25,323,541,515,45,12,15,16,11,18,17,64,65,56]\n",
    "print(\"your list is:\",list2)\n",
    "print()\n",
    "print(\"length of List1:\",len(list2))\n",
    "print()\n",
    "\n",
    "#list sequence\n",
    "\n",
    "seq=(\"v\",525,\"haresh\",10,360,45,12,1)\n",
    "print(seq ,\"tuple\")\n",
    "print()\n",
    "dis={\"v\",525,\"haresh\",10,360,45,12,1}\n",
    "print(dict,\"dictnory\")\n",
    "print(\"your list is:\",seq)\n",
    "print()\n",
    "print(\"list to tuple sequence is:\",list(seq)) #convrt tupel to list\n",
    "print()\n",
    "print()\n",
    "print(\"list to dict sequence is:\",list(dis)) #convrt dict to list\n",
    "print()\n",
    "\n"
   ]
  },
  {
   "cell_type": "code",
   "execution_count": null,
   "id": "59848b93",
   "metadata": {},
   "outputs": [],
   "source": [
    "#--------------------------------------------Built-in methods of List----------------------------------------------------------#\n",
    "'''\n",
    "1.index\n",
    "2.count\n",
    "3.pop\n",
    "4.insert\n",
    "5.extend\n",
    "6.remove\n",
    "7.revers\n",
    "8.sort\n",
    "'''\n",
    "#index\n",
    "\n",
    "list = input(\"Enter your list:\")\n",
    "print(\"this is my list:\",[list])\n",
    "print()\n",
    "index=input(\"Enter which one index find:\")\n",
    "print (\"your select index is:\",list.index(index))\n",
    "print()\n",
    "\n",
    "\n",
    "#count\n",
    "\n",
    "data=[786,'abc','a',123.5,786,'rahul','b',786]\n",
    "print (\"your cont  is:\",data.count(786))\n",
    "\n",
    "#pop\n",
    "\n",
    "data = [786,'abc','a',123.5,786]\n",
    "print(\"data is given:\",data)\n",
    "print (\"Last element is deleted :\", data.pop())\n",
    "print(\"after using pop:\",data)\n",
    "print()\n",
    "print (\"2nd position element:\", data.pop(1))    \n",
    "print(\"after given argument in pop:\",data)\n",
    "\n",
    "\n",
    "#insert\n",
    "data=['abc',123,10.5,'a']\n",
    "print(\"my data:\",data)\n",
    "print()\n",
    "data.insert(2,'hello')\n",
    "print(\"using insert method:\",data)\n",
    "\n",
    "\n",
    "\n",
    "#extend\n",
    "\n",
    "data1=['abc',123,10.5,'a']\n",
    "print(\"withaout extend list is:\",data1)\n",
    "print()\n",
    "data2=['ram',541]\n",
    "#data3=data1+data2\n",
    "data1.extend(data2)\n",
    "print(\"after use extend function:\",data1)\n",
    "\n",
    "\n",
    "#remove\n",
    "data1=['abc',123,10.5,'a','xyz']\n",
    "print(\"befor remove list is:\",data1)\n",
    "print()\n",
    "data1.remove('xyz')\n",
    "print(\"after remove list is:\",data1)\n",
    "\n",
    "\n",
    "#reverse\n",
    "data1=[1,2,3,4,5,6,7,8,9,10,11,12,13,14]\n",
    "print(\"befor use revers:\",data1)\n",
    "print()\n",
    "data1.reverse()\n",
    "print(\"after use revers:\",data1)\n",
    "\n",
    "\n",
    "\n",
    "#sort\n",
    "data1=[15,17,50,11,5,6,7,8,9,10,11,12,13,14]\n",
    "print(\"befor use sort:\",data1)\n",
    "print()\n",
    "data1.sort()\n",
    "print(\"after use sort:\",data1)\n"
   ]
  },
  {
   "cell_type": "code",
   "execution_count": 3,
   "id": "5c2d95a9",
   "metadata": {},
   "outputs": [
    {
     "name": "stdout",
     "output_type": "stream",
     "text": [
      "(4, 5)\n",
      "[7, (8, 9), 7]\n",
      "ERROR! Session/line number was not unique in database. History logging moved to new session 21\n"
     ]
    }
   ],
   "source": [
    "lst = [1, 2, 3, (4, 5), [7, (8,9), 7]]\n",
    "\n",
    "for item in lst:\n",
    "  if (type(item) == list) or (type(item) == tuple):\n",
    "    print(item)"
   ]
  },
  {
   "cell_type": "code",
   "execution_count": 5,
   "id": "b3a25b34",
   "metadata": {},
   "outputs": [
    {
     "name": "stdout",
     "output_type": "stream",
     "text": [
      "<class 'tuple'>\n",
      "('h', 'a', 'r', 'e', 's', 'h')\n"
     ]
    },
    {
     "data": {
      "text/plain": [
       "tuple"
      ]
     },
     "execution_count": 5,
     "metadata": {},
     "output_type": "execute_result"
    }
   ],
   "source": [
    "#------------------------------------------------------TUPLE-------------------------------------------------------------------#\n",
    "'''\n",
    "immutable\n",
    "round breckets \n",
    "coma is must in simple breackets\n",
    "tuple()\n",
    "'''\n",
    "tup=(10,20,'ram',56.8)\n",
    "print(type(tup))\n",
    "#----------------\n",
    "name=\"haresh\"\n",
    "t2 = tuple(name)\n",
    "print(t2)\n",
    "type(t2)"
   ]
  },
  {
   "cell_type": "code",
   "execution_count": null,
   "id": "d8733ab9",
   "metadata": {},
   "outputs": [],
   "source": [
    "#For a single valued tuple, there must be a comma at the end of the value. \n",
    "tup=(10,) \n",
    "print(tup)\n"
   ]
  },
  {
   "cell_type": "code",
   "execution_count": 6,
   "id": "341bf11f",
   "metadata": {},
   "outputs": [
    {
     "name": "stdout",
     "output_type": "stream",
     "text": [
      "(('a', 'mahesh', 10.56), (10, 20, 30))\n"
     ]
    }
   ],
   "source": [
    "#it means we can pass tuple as an element to create a new tuple.\n",
    "tup='a','mahesh',10.56          \n",
    "tup1=tup,(10,20,30)   \n",
    "print(tup1)"
   ]
  },
  {
   "cell_type": "code",
   "execution_count": null,
   "id": "c7211a8b",
   "metadata": {},
   "outputs": [],
   "source": [
    "#--------------------------------------------------TUPLE OPRATION--------------------------------------------------------------#\n",
    "#Concatenation operator(+) \n",
    "t1=(1,2,3,'ram',4,5,'v')\n",
    "t2=(9,8,7,'shyam',5,4,'h')\n",
    "t3=t1+t2\n",
    "print(\"concatenation operator(+):\",t3)\n",
    "print()\n",
    "\n",
    "#Replicating  oprator(*)\n",
    "t1=('ram',14,17)\n",
    "t2=t1*5\n",
    "print(\"Replicating oprator(*):\",t2)"
   ]
  },
  {
   "cell_type": "code",
   "execution_count": null,
   "id": "10dd6ed5",
   "metadata": {},
   "outputs": [],
   "source": [
    "#-------------------------------------------------TUPLE SLICING----------------------------------------------------------------#\n",
    "#slicing in tuple\n",
    "\n",
    "t = (1, 2, 3, 1.1, 2.2, \"tops\", [100, 200, 300], 10, True, \"python\", 1, 2, False, 7, 8, 4)\n",
    "print(t[::12])\n",
    "print(t[14:])\n",
    "print(t[:3:3])\n",
    "print(t[1:14:7])\n",
    "print(t[-14::])\n",
    "print(t[::-2])\n",
    "print(t[:-1:-3])\n",
    "print(t[-14:-12:2])\n",
    "print(t[-10:-7])"
   ]
  },
  {
   "cell_type": "code",
   "execution_count": null,
   "id": "0a00311d",
   "metadata": {
    "scrolled": true
   },
   "outputs": [],
   "source": [
    "#-------------------------------------------------TUPLE FUNCTION---------------------------------------------------------------#\n",
    "'''\n",
    "1.maximum\n",
    "2.minimum\n",
    "3.Length of tuple\n",
    "4.tuple(sequence)\n",
    "'''\n",
    "\n",
    "#minimum\n",
    "\n",
    "tup=(25,323,541,515,45,12,15,16,11,18,17,64,65,56)\n",
    "print(\"your tup is:\",tup)\n",
    "print()\n",
    "print(\"Minimum value in tup:\",min(tup))\n",
    "print()\n",
    "\n",
    "#maximu\n",
    "\n",
    "tup=(25,323,541,515,45,12,15,16,11,18,17,64,65,56)\n",
    "print(\"your tup is:\",tup)\n",
    "print()\n",
    "print(\"maximum value in tup:\",max(tup))\n",
    "print()\n",
    "\n",
    "#length of TUPLE\n",
    "\n",
    "tup=(25,323,541,515,45,12,15,16,11,18,17,64,65,56)\n",
    "print(\"your tup is:\",tup)\n",
    "print()\n",
    "print(\"length of tup is:\",min(tup))\n",
    "print()\n",
    "\n",
    "#TUPLE sequence\n",
    "'''\n",
    "seq=[\"v\",525,\"haresh\",10,360,45,12,1]\n",
    "print(\"list\",seq)\n",
    "print()\n",
    "\n",
    "dis={\"v\",525,\"haresh\",10,360,45,12,1}\n",
    "print(\"dictnory:\",dis)\n",
    "print()\n",
    "\n",
    "print(\"your list is:\",seq)\n",
    "print()\n",
    "print(\"list to tuple sequence is:\",tup(seq)) #convrt list to tuple (TypeError: 'tuple' object is not callable)\n",
    "print()\n",
    "\n",
    "print(\"your dict is:\",dis)\n",
    "print()\n",
    "print(\"list to dict sequence is:\",tup(dis)) #convrt dict to tuple\n",
    "print()\n",
    "'''"
   ]
  },
  {
   "cell_type": "code",
   "execution_count": 7,
   "id": "94f38a36",
   "metadata": {},
   "outputs": [
    {
     "name": "stdout",
     "output_type": "stream",
     "text": [
      "Id of 1st employer is 100\n",
      "Name of 1st employer is Haresh\n",
      "Profession of 1st employer is Developer\n"
     ]
    }
   ],
   "source": [
    "#----------------------------------------------------Dictionary----------------------------------------------------------------#\n",
    "data={'Id':100, 'Name':'Haresh', 'Profession':'Developer'}          \n",
    "print (\"Id of 1st employer is\",data['Id'])\n",
    "print (\"Name of 1st employer is\",data['Name'])\n",
    "print (\"Profession of 1st employer is\",data['Profession'])"
   ]
  },
  {
   "cell_type": "code",
   "execution_count": 27,
   "id": "e1fdbb75",
   "metadata": {
    "scrolled": true
   },
   "outputs": [
    {
     "name": "stdout",
     "output_type": "stream",
     "text": [
      "old data befor updating: {'Id': 100, 'Name': 'Haresh', 'Profession': 'Developer'}\n",
      "new data after updating: {'Id': 100, 'Name': 'Haresh', 'Profession': 'Manager'}\n",
      "\n",
      "old data befor updating: {'Id': 100, 'Name': 'Haresh', 'Profession': 'Developer'}\n",
      "new data after updating: {'Id': 100, 'Name': 'Haresh', 'Profession': 'Developer', 'id': 200, 'name': 'varsha'}\n",
      "\n",
      "orignal dictionary : {100: 'Ram', 101: 'Suraj', 102: 'Alok'}\n",
      "after one element delete: {100: 'Ram', 101: 'Suraj'}\n",
      "\n",
      "{100: 'Ram', 101: 'Suraj', 102: 'Alok'}\n",
      "<class 'dict'>\n",
      "\n",
      "3\n"
     ]
    }
   ],
   "source": [
    "#(userinput)\n",
    "#updating\n",
    "data={'Id':100, 'Name':'Haresh', 'Profession':'Developer'} \n",
    "print(\"old data befor updating:\",data)\n",
    "data['Profession']='Manager'\n",
    "print(\"new data after updating:\",data)\n",
    "print()\n",
    "\n",
    "#updating second method\n",
    "data={'Id':100, 'Name':'Haresh', 'Profession':'Developer'} \n",
    "print(\"old data befor updating:\",data)\n",
    "data1={'id':200,'name':'varsha'}\n",
    "data.update(data1)\n",
    "print(\"new data after updating:\",data)\n",
    "print()\n",
    "\n",
    "#deleting\n",
    "data={100:'Ram', 101:'Suraj', 102:'Alok'} \n",
    "print(\"orignal dictionary :\",data)\n",
    "del data[102]\n",
    "print(\"after one element delete:\",data)\n",
    "#del data\n",
    "#print(\"all data deleted:\",data)\n",
    "print()\n",
    "data1={100:'Ram', 101:'Suraj', 102:'Alok'}   \n",
    "print (str(data1))\n",
    "print(type(data1))\n",
    "print()\n",
    "\n",
    "#length of dictionary\n",
    "data1={100:'Ram', 101:'Suraj', 102:'Alok'} \n",
    "print(len(data1))"
   ]
  },
  {
   "cell_type": "code",
   "execution_count": 10,
   "id": "90368059",
   "metadata": {},
   "outputs": [
    {
     "name": "stdout",
     "output_type": "stream",
     "text": [
      "your dictionary: {1: 'haresh', 2: 'varsha', 3: 'ram', 4: 'dax', 5: 'khush'}\n",
      "get only all keys in your dictionary: dict_keys([1, 2, 3, 4, 5])\n",
      "\n",
      "your dictionary: {1: 'haresh', 2: 'varsha', 3: 'ram', 4: 'dax', 5: 'khush'}\n",
      "get only all values in your dictionary: dict_values(['haresh', 'varsha', 'ram', 'dax', 'khush'])\n",
      "\n",
      "your dictionary: {1: 'haresh', 2: 'varsha', 3: 'ram', 4: 'dax', 5: 'khush'}\n",
      "get  all items in your dictionary: dict_items([(1, 'haresh'), (2, 'varsha'), (3, 'ram'), (4, 'dax'), (5, 'khush')])\n",
      "\n",
      "your dictionary: {1: 'haresh', 2: 'varsha', 3: 'ram', 4: 'dax', 5: 'khush'}\n",
      "clear  all data in your dictionary: {}\n",
      "\n",
      "frokeys with loop: {10: 4, 11: 4, 12: 4, 13: 4, 14: 4, 15: 4, 16: 4, 17: 4, 18: 4, 19: 4}\n",
      "use copy function: {'Id': 100, 'Name': 'Aakash'}\n",
      "\n",
      "your dictionary: {'Id': 200, 'Name': 'Haresh', 'Profession': 'Developer'}\n",
      "get only value in your dictionary: 200\n",
      "get only value in your dictionary: Haresh\n",
      "get only value in your dictionary: Developer\n",
      "\n",
      "popitems: {1: 'hirva', 2: 'bhagirath', 3: 'pavan', 4: 'sweety'}\n"
     ]
    }
   ],
   "source": [
    "#-------------------------------------------------Dictionary  Methods----------------------------------------------------------#\n",
    "'''\n",
    "1.keys()\n",
    "2.values()\n",
    "3.items()\n",
    "4.clear()\n",
    "5.fromkeys(sequence,value1)/ fromkeys(sequence)\n",
    "6.copy()\n",
    "7.has_key(key)\n",
    "8.get(key)\n",
    "9.pop()\n",
    "10.popitems()\n",
    "'''\n",
    "#keys()\n",
    "\n",
    "data={1:'haresh',2:'varsha',3:'ram',4:'dax',5:'khush'}\n",
    "print(\"your dictionary:\",data)\n",
    "print(\"get only all keys in your dictionary:\", data.keys())\n",
    "print()\n",
    "\n",
    "#values()\n",
    "\n",
    "data={1:'haresh',2:'varsha',3:'ram',4:'dax',5:'khush'}\n",
    "print(\"your dictionary:\",data)\n",
    "print(\"get only all values in your dictionary:\", data.values())\n",
    "print()\n",
    "\n",
    "#items()\n",
    "\n",
    "data={1:'haresh',2:'varsha',3:'ram',4:'dax',5:'khush'}\n",
    "print(\"your dictionary:\",data)\n",
    "print(\"get  all items in your dictionary:\", data.items())\n",
    "print()\n",
    "\n",
    "#clear()\n",
    "\n",
    "data={1:'haresh',2:'varsha',3:'ram',4:'dax',5:'khush'}\n",
    "print(\"your dictionary:\",data)\n",
    "data.clear()\n",
    "print(\"clear  all data in your dictionary:\",data )\n",
    "print()\n",
    "\n",
    "#fromkeys(sequence,value1)/ fromkeys(sequence)\n",
    "d = {}\n",
    "r = range(10, 20)\n",
    "l = 4\n",
    "d2 = d.fromkeys(r,l)\n",
    "print(\"frokeys with loop:\",d2)\n",
    "\n",
    "#copy()\n",
    "data={'Id':100 , 'Name':'Aakash'}   \n",
    "data1=data.copy()  \n",
    "print(\"use copy function:\",data1)\n",
    "print()\n",
    "#shallo copy()\n",
    "\n",
    "#deap copy()\n",
    "#has_key()\n",
    "data={'Id':100, 'Name':'Haresh', 'Profession':'Developer','Id':200} \n",
    "print(\"your dictionary:\",data)\n",
    "print(\"get only value in your dictionary:\",data.get('Id'))\n",
    "print(\"get only value in your dictionary:\",data.get('Name'))\n",
    "print(\"get only value in your dictionary:\",data.get('Profession'))\n",
    "print()\n",
    "#popitems\n",
    "d={1: 'hirva', 2: 'bhagirath', 3: 'pavan', 4: 'sweety', 6: 'hardik'}\n",
    "d.popitem()\n",
    "print(\"popitems:\",d)"
   ]
  },
  {
   "cell_type": "code",
   "execution_count": 1,
   "id": "58f6b050",
   "metadata": {},
   "outputs": [
    {
     "name": "stdout",
     "output_type": "stream",
     "text": [
      "{2: 'aakash', 3: 'vani'}\n"
     ]
    }
   ],
   "source": [
    "#dictionary\n",
    "d = { \"a\" :\"meet\", 2 : \"aakash\", 3 : \"vani\" }\n",
    "d.pop(\"a\")\n",
    "print(d)"
   ]
  },
  {
   "cell_type": "code",
   "execution_count": 8,
   "id": "97328f17",
   "metadata": {},
   "outputs": [
    {
     "name": "stdout",
     "output_type": "stream",
     "text": [
      "1  :  hirva\n",
      "2  :  bhagirath\n",
      "3  :  pavan\n",
      "4  :  sweety\n"
     ]
    }
   ],
   "source": [
    "d={1: 'hirva', 2: 'bhagirath', 3: 'pavan', 4: 'sweety'}\n",
    "for i in d:\n",
    "  print(i, \" : \", d[i])"
   ]
  },
  {
   "cell_type": "code",
   "execution_count": 12,
   "id": "2f086a38",
   "metadata": {},
   "outputs": [
    {
     "name": "stdout",
     "output_type": "stream",
     "text": [
      "{1: 'haresh', 3: 'ahir', 4: 'hindu', 5: 'nandaniya'}\n"
     ]
    }
   ],
   "source": [
    "d = {1:\"haresh\", 2:\"nandaniya\", 3:\"ahir\", 4:\"hindu\"}\n",
    "dnew = {1:\"haresh\", 2:\"nandaniya\", 3:\"ahir\", 4:\"hindu\"}\n",
    "\n",
    "d[5] = d[2] \n",
    "del d[2]\n",
    "print(d)"
   ]
  },
  {
   "cell_type": "code",
   "execution_count": 13,
   "id": "5953d0a3",
   "metadata": {},
   "outputs": [
    {
     "name": "stdout",
     "output_type": "stream",
     "text": [
      "enter N 10\n"
     ]
    },
    {
     "data": {
      "text/plain": [
       "{1: 1, 2: 4, 3: 9, 4: 16, 5: 25, 6: 36, 7: 49, 8: 64, 9: 81, 10: 100}"
      ]
     },
     "execution_count": 13,
     "metadata": {},
     "output_type": "execute_result"
    }
   ],
   "source": [
    "n = int(input(\"enter N \"))\n",
    "d= {}\n",
    "\n",
    "for i in range(1, n+1):\n",
    "  d[i]=i*i\n",
    "d"
   ]
  },
  {
   "cell_type": "code",
   "execution_count": 18,
   "id": "760336e8",
   "metadata": {},
   "outputs": [
    {
     "data": {
      "text/plain": [
       "{'h': 'h*', 'a': 'a*', 'r': 'r*', 'e': 'e*', 's': 's*'}"
      ]
     },
     "execution_count": 18,
     "metadata": {},
     "output_type": "execute_result"
    }
   ],
   "source": [
    "coll = \"haresh\"\n",
    "value = None\n",
    "d2 = d.fromkeys(coll,value)\n",
    "d2\n",
    "\n",
    "for i in d2:\n",
    "  d2[i] = i + \"*\"\n",
    "\n",
    "d2"
   ]
  },
  {
   "cell_type": "code",
   "execution_count": 11,
   "id": "cd9eee64",
   "metadata": {},
   "outputs": [
    {
     "name": "stdout",
     "output_type": "stream",
     "text": [
      "<class 'set'> {1, 2, 3, 4}\n"
     ]
    }
   ],
   "source": [
    "#--------------------------------------------------------sets------------------------------------------------------------------#\n",
    "set1 = {1,2,3,4}\n",
    "print(type(set1),set1)"
   ]
  },
  {
   "cell_type": "code",
   "execution_count": 25,
   "id": "48995ab8",
   "metadata": {},
   "outputs": [
    {
     "name": "stdout",
     "output_type": "stream",
     "text": [
      "use disjoint: False\n",
      "\n",
      "befor adding: {1, 2, 3, 4}\n",
      "after adding: {1, 2, 3, 4, 9}\n",
      "\n",
      "use subset: True\n",
      "\n",
      "use superset: True\n",
      "\n",
      "{1, 2, 3, 4, 5, 6, 7}\n",
      "\n",
      "before remove: {1, 2, 3, 4}\n",
      "after remove: {1, 2, 3}\n",
      "\n",
      "use difference: {2, 3}\n",
      "\n",
      "use difference_update: None\n",
      "\n",
      "use intersection: {1, 4}\n",
      "\n",
      "use intersection_update: {1, 4}\n",
      "\n",
      "use symmetric_difference: {2, 3, 5, 6}\n",
      "\n"
     ]
    }
   ],
   "source": [
    "#isdisjoint(1arg)\n",
    "set1 = {1,2,3,4}\n",
    "set2= {5, 6, 7, 4}\n",
    "print(\"use disjoint:\",set1.isdisjoint(set2))\n",
    "print()\n",
    "\n",
    "#add\n",
    "set1 = {1,2,3,4}\n",
    "print(\"befor adding:\",set1)\n",
    "set1.add(9)\n",
    "print(\"after adding:\",set1)\n",
    "print()\n",
    "\n",
    "#issubset(1arg)\n",
    "set1 = {1,2,3,4}\n",
    "set2= {5,6,1,2,3,7,4}\n",
    "print(\"use subset:\",set1.issubset(set2))\n",
    "print()\n",
    "\n",
    "#issuperset(1arg)\n",
    "set1 = {1,2,3,4}\n",
    "set2= {5,6,1,2,3,7,4}\n",
    "print(\"use superset:\",set2.issuperset(set1))\n",
    "print()\n",
    "\n",
    "#update()\n",
    "set1 = {1,2,3,4}\n",
    "set2= {5,6,7,4}\n",
    "set1.update(set2)\n",
    "print(set1)\n",
    "print()\n",
    "\n",
    "#remove()\n",
    "set1 = {1,2,3,4}\n",
    "print(\"before remove:\",set1)\n",
    "set1.remove(4)\n",
    "print(\"after remove:\",set1)\n",
    "print()\n",
    "\n",
    "#difference()\n",
    "set1 = {1,2,3,4}\n",
    "set2= {5, 6, 1, 4}\n",
    "set3 = set1.difference(set2)\n",
    "print(\"use difference:\",set3)\n",
    "print()\n",
    "\n",
    "#difference_update\n",
    "set1 = {1,2,3,4}\n",
    "set2= {1, 6, 5, 4}\n",
    "set3=set1.difference_update(set2)\n",
    "print(\"use difference_update:\",set3)\n",
    "print()\n",
    "\n",
    "#intersection\n",
    "set1 = {1,2,3,4}\n",
    "set2= {1, 6, 5, 4}\n",
    "set3 = set1.intersection(set2)\n",
    "print(\"use intersection:\",set3) #print both are equale\n",
    "print()\n",
    "\n",
    "#intersection_update\n",
    "set1 = {1,2,3,4}\n",
    "set2= {1, 6, 5, 4}\n",
    "set1.intersection_update(set2)\n",
    "print(\"use intersection_update:\",set1) \n",
    "print()\n",
    "\n",
    "#symmetric_difference\n",
    "set1 = {1,2,3,4}\n",
    "set2= {1, 6, 5, 4}\n",
    "set3 = set1.symmetric_difference(set2)\n",
    "print(\"use symmetric_difference:\",set3) #both are difference\n",
    "print()\n",
    "#disgard\n",
    "#union"
   ]
  },
  {
   "cell_type": "code",
   "execution_count": 13,
   "id": "5b19d84e",
   "metadata": {},
   "outputs": [
    {
     "data": {
      "text/plain": [
       "'\\nset1 = {1,2,3,4}\\nset1[0]\\nprint(set1)\\n'"
      ]
     },
     "execution_count": 13,
     "metadata": {},
     "output_type": "execute_result"
    }
   ],
   "source": [
    "#indx not possible\n",
    "'''\n",
    "set1 = {1,2,3,4}\n",
    "set1[0]\n",
    "print(set1)\n",
    "'''"
   ]
  },
  {
   "cell_type": "code",
   "execution_count": null,
   "id": "a6e4c5cd",
   "metadata": {},
   "outputs": [],
   "source": [
    "# https://www.scaler.com/topics/python/difference-between-dictionary-list-tuple-and-set-in-python/\n",
    "\n",
    "# https://docs.python.org/3/library/functions.html"
   ]
  },
  {
   "cell_type": "code",
   "execution_count": 61,
   "id": "43d6cd1e",
   "metadata": {},
   "outputs": [],
   "source": [
    "#----------------------------------------------------Function------------------------------------------------------------------#\n",
    "'''\n",
    "1.Built in function\n",
    "2.user define function"
   ]
  },
  {
   "cell_type": "code",
   "execution_count": null,
   "id": "7314a00d",
   "metadata": {},
   "outputs": [],
   "source": [
    "#Python supports following types of formal argument: \n",
    "'''\n",
    "1) Positional argument (Required argument). \n",
    "2) Default argument. \n",
    "3) Keyword argument (Named argument)\n",
    "4) arbitory argument\n",
    "5)\n",
    "'''"
   ]
  },
  {
   "cell_type": "code",
   "execution_count": 17,
   "id": "e605efe0",
   "metadata": {},
   "outputs": [
    {
     "name": "stdout",
     "output_type": "stream",
     "text": [
      "Enter Name:haresh\n",
      "Enter Surname:nandaniya\n",
      "hello  haresh   nandaniya how is thigns\n"
     ]
    }
   ],
   "source": [
    "# Positional argument\n",
    "\n",
    "name=input(\"Enter Name:\")\n",
    "Surname=input(\"Enter Surname:\")\n",
    "def myfun(name, surname):\n",
    "    print(\"hello \",name,\" \",surname,\"how is thigns\")\n",
    "myfun(name,Surname)\n"
   ]
  },
  {
   "cell_type": "code",
   "execution_count": 33,
   "id": "97d214ad",
   "metadata": {},
   "outputs": [
    {
     "name": "stdout",
     "output_type": "stream",
     "text": [
      "enter name:haresh\n",
      "enter surname:\n",
      "haresh nandaniya\n"
     ]
    }
   ],
   "source": [
    "#Default argument\n",
    "def Default(name,surname='nandaniya'):\n",
    "    print(name ,surname)\n",
    "str1=input(\"enter name:\")\n",
    "str2=input(\"enter surname:\")\n",
    "Default(str1)"
   ]
  },
  {
   "cell_type": "code",
   "execution_count": 41,
   "id": "0ac478b3",
   "metadata": {},
   "outputs": [
    {
     "name": "stdout",
     "output_type": "stream",
     "text": [
      "Hello haresh, Good morning!\n",
      "haresh  nandaniya  livince in  porbandar roleof compny engineer\n"
     ]
    }
   ],
   "source": [
    "#positional arguments \n",
    "def greet(name, msg):\n",
    "\n",
    "#docstring\n",
    "    \"\"\"This function greets to\n",
    "    the person with the provided message\"\"\"\n",
    "\n",
    "    print(\"Hello\", name + ', ' + msg)\n",
    "greet(\"haresh\", \"Good morning!\")\n",
    "#----------------------------------------------------------------------------------------------------\n",
    "def arg(name,surname,city,designation):\n",
    "    print(name,\"\",surname,\" livince in \",city,\"roleof compny\",designation)\n",
    "name='haresh'\n",
    "surname='nandaniya'\n",
    "city='porbandar'\n",
    "designation='engineer'\n",
    "arg(name,surname,city,designation)"
   ]
  },
  {
   "cell_type": "code",
   "execution_count": 45,
   "id": "dc3005d5",
   "metadata": {},
   "outputs": [
    {
     "name": "stdout",
     "output_type": "stream",
     "text": [
      "ramesh nandaniya lives in Ahmedabad City\n",
      "haresh ahir lives in gandhinagar City\n",
      "ram ahir lives in Ahmedabad City\n",
      "ahir haresh lives in porbandar City\n"
     ]
    }
   ],
   "source": [
    "#keyword arguments\n",
    "def student(firstname, lastname ='nandaniya', city ='Ahmedabad'):\n",
    "\tprint(firstname, lastname, 'lives in', city, 'City')\n",
    "\n",
    "# 1 keyword argument\n",
    "student(firstname ='ramesh')\t\n",
    "\n",
    "# 2 keyword arguments\t\t\t\t\n",
    "student(firstname ='haresh', lastname='ahir', city ='gandhinagar')\n",
    "\n",
    "# 3 keyword arguments\n",
    "student(lastname ='ahir', firstname ='ram')\t\n",
    "\n",
    "# follows order\n",
    "student(\"ahir\", \"haresh\", city = \"porbandar\")\n",
    "\n",
    "#cant define like this\n",
    "# positional arguments can't be on right of keyword arguments\n",
    "def student(name, city ='Banglore', course):\n",
    "  print(name, 'lives in', city, 'pursuig' , course)"
   ]
  },
  {
   "cell_type": "code",
   "execution_count": 27,
   "id": "66653e85",
   "metadata": {},
   "outputs": [
    {
     "name": "stdout",
     "output_type": "stream",
     "text": [
      "a is  3\n",
      "b is  4\n",
      "args are  (5, 8, 3, 100)\n",
      "<class 'tuple'>\n",
      "Hello haresh\n",
      "Hello ram\n",
      "Hello shyam\n",
      "Hello nirav\n",
      "\n",
      "0\n",
      "23\n"
     ]
    }
   ],
   "source": [
    "#arbitraryarguments\n",
    "def arg_printer(a, b, *args):\n",
    "    print('a is ', a)\n",
    "    print('b is ', b)\n",
    "    print('args are ', args)\n",
    "    print(type(args))\n",
    "   \n",
    "arg_printer(3, 4, 5, 8, 3, 100)\n",
    "#----------------------------------------------------------------------------------------------------\n",
    "def greet(*names):\n",
    "    \"\"\"This function greets all\n",
    "    the person in the names tuple.\"\"\"\n",
    "\n",
    "    # names is a tuple with arguments\n",
    "    for name in names:\n",
    "        print(\"Hello\", name)\n",
    "\n",
    "\n",
    "greet(\"haresh\", \"ram\", \"shyam\", \"nirav\")\n",
    "print()\n",
    "#----------------------------------------------------------------------------------------------------\n",
    "def addition(a, b, *args, option=False):\n",
    "   result = 0\n",
    "   if option:\n",
    "      for i in args:\n",
    "        result += i # result = result + i \n",
    "      return (a + b + result)\n",
    "   else:\n",
    "      return result\n",
    "print(addition(1,4,5,6,7))\n",
    "print(addition(1,4,5,6,7, option=True))"
   ]
  },
  {
   "cell_type": "code",
   "execution_count": null,
   "id": "ad7fa6e5",
   "metadata": {},
   "outputs": [],
   "source": [
    "\"\"\"\n",
    "The **kwargs collect all the keyword arguments that are not explicitly defined. Thus, it does the same operation as *args but for keyword arguments.\n",
    "\n",
    "    **kwargs allow a function to take any number of keyword arguments.\n",
    "\n",
    "By default, **kwargs is an empty dictionary. Each undefined keyword argument is stored as a key-value pair in the **kwargs dictionary.\n",
    "\n",
    "\n",
    "We can use both *args and **kwargs in a function but *args must be put before **kwargs.\n",
    "\"\"\""
   ]
  },
  {
   "cell_type": "code",
   "execution_count": 59,
   "id": "536ddc10",
   "metadata": {},
   "outputs": [
    {
     "name": "stdout",
     "output_type": "stream",
     "text": [
      "1 4\n",
      "(6,)\n",
      "{'param1': 5, 'param2': (8, 7, 9)}\n"
     ]
    }
   ],
   "source": [
    "def arg_printer(a, b, *args, **kwargs):\n",
    "   print(a, b)\n",
    "   print(args)\n",
    "   print(kwargs)\n",
    "\n",
    "   \n",
    "arg_printer(1, 4, 6, param1=5, param2=(8,7,9))"
   ]
  },
  {
   "cell_type": "code",
   "execution_count": 60,
   "id": "9bee0bf0",
   "metadata": {},
   "outputs": [
    {
     "name": "stdout",
     "output_type": "stream",
     "text": [
      "first name is haresh last name is nandaniya hobbies are ('READING', 'CRICKET') marks are {'m1': 87, 'm2': 78}\n",
      "first name is ramesh last name is ahir hobbies are ('READING', 'CRICKET', 'DRAWING', 'Pencil sketch') marks are {'m1': 87, 'm2': 78, 'm3': 90}\n"
     ]
    }
   ],
   "source": [
    "#example which takes all types of arguments in same function \n",
    "def student(fname, lname, *hobbies, **marks):\n",
    "    print(\"first name is\", fname, \"last name is\", lname, \"hobbies are\", hobbies,\"marks are\", marks)\n",
    "    \n",
    "student(\"haresh\", \"nandaniya\", \"READING\", \"CRICKET\", m1 = 87, m2 = 78)\n",
    "student(\"ramesh\", \"ahir\", \"READING\", \"CRICKET\",\"DRAWING\", \"Pencil sketch\", m1 = 87, m2 = 78, m3=90)"
   ]
  },
  {
   "cell_type": "code",
   "execution_count": 66,
   "id": "6844e75b",
   "metadata": {},
   "outputs": [
    {
     "name": "stdout",
     "output_type": "stream",
     "text": [
      "([1, 4, 5],)\n",
      "(1, 4, 5)\n",
      "(1, 4, 5, 'a', 'b', 4, 5, 6)\n",
      "() {'param1': 5, 'param2': 8}\n",
      "(6, 7) {'param3': 9}\n"
     ]
    }
   ],
   "source": [
    "#packing and unpacking of variables\n",
    "\n",
    "#If we pass a list to the function above, it will stored in args tuple as one single element.\n",
    "\n",
    "#If we put an asterisk before lst, the values in the list will be unpacked and stored in args tuple separately.\n",
    "\n",
    "def arg_printer(*args):\n",
    "   print(args)\n",
    "lst = [1,4,5]\n",
    "arg_printer(lst)\n",
    "lst = [1,4,5]\n",
    "arg_printer(*lst)\n",
    "#---------------------------------------------------------------------------\n",
    "#We can pass multiple iterables to be unpacked together with single elements. All values will be stored in the args tuple.\n",
    "\n",
    "lst = [1,4,5]\n",
    "tpl = ('a','b',4)\n",
    "arg_printer(*lst, *tpl, 5, 6)\n",
    "#-----------------------------------------------------------------------------------------------------\n",
    "#We can do the packing and unpacking with keyword arguments as well. But the iterable that is passed as keyword arguments must be a mapping such as a dictionary.\n",
    "def arg_printer(*args,**kwargs):\n",
    "   print(args, kwargs)\n",
    "#But the iterable that is passed as keyword arguments must be a mapping such as a dictionary.\n",
    "dct = {'param1':5, 'param2':8}\n",
    "\n",
    "arg_printer(**dct)\n",
    "\n",
    "#-------------------------------------------------\n",
    "#If we also pass additional keyword arguments together with a dictionary, they will combined and stored in the kwargs dictionary.\n",
    "dct = {'param1':5, 'param2':8}\n",
    "arg_printer(6, 7,param3=9)"
   ]
  },
  {
   "cell_type": "code",
   "execution_count": 67,
   "id": "99d6085b",
   "metadata": {},
   "outputs": [
    {
     "name": "stdout",
     "output_type": "stream",
     "text": [
      "Enter your fnameharesh\n",
      "Enter your last namenandaniya\n",
      "how many years of salary you want to enter?3\n",
      "Enter year2022\n",
      "Enter the salary of the year entered:20000\n",
      "Enter year2023\n",
      "Enter the salary of the year entered:60000\n",
      "Enter year2024\n",
      "Enter the salary of the year entered:100000\n",
      "Please enter bonus values in sequence seperated by a space:20 23 24 25 26 \n",
      "My name is haresh nandaniya  and my yearwise salaries are as {'2022': '20000', '2023': '60000', '2024': '100000'}  and diffrent bonus i received during these years are ('20', '23', '24', '25', '26')\n"
     ]
    }
   ],
   "source": [
    "#good example of use of function arguments..positional, keyword, and arbritary parameters\n",
    "\n",
    "#function declaration\n",
    "def emp(fname, lname, *bonus, **sellery):\n",
    "  \n",
    "  print(\"My name is\",fname,lname, \" and my yearwise salaries are as\",sellery, \" and diffrent bonus i received during these years are\",bonus)\n",
    "#function declaration over\n",
    "\n",
    "fname = input(\"Enter your fname\")\n",
    "lname = input(\"Enter your last name\")\n",
    "\n",
    "noofyears = int(input(\"how many years of salary you want to enter?\"))\n",
    "yearwisesalary = {}\n",
    "for i in range(noofyears):\n",
    "    yearv = input(\"Enter year\")\n",
    "    salary = input(\"Enter the salary of the year entered:\")\n",
    "    yearwisesalary[yearv] = salary\n",
    "\n",
    "#print('dic:',yearwisesalary)\n",
    " \n",
    "bonus = input('Please enter bonus values in sequence seperated by a space:')\n",
    "#spliting the input values by space\n",
    "bonus_tuple = tuple(str(val) for val in bonus.split())\n",
    "#print('tuple:',bonus_tuple)\n",
    "\n",
    "#calling the function\n",
    "emp(fname,lname,*bonus_tuple,**yearwisesalary)"
   ]
  },
  {
   "cell_type": "code",
   "execution_count": null,
   "id": "ec79ec2d",
   "metadata": {},
   "outputs": [],
   "source": [
    "# https://www.geeksforgeeks.org/python-programming-examples/ \n",
    "\n",
    "\n",
    "#practice "
   ]
  },
  {
   "cell_type": "code",
   "execution_count": null,
   "id": "610cbfc4",
   "metadata": {},
   "outputs": [],
   "source": []
  },
  {
   "cell_type": "code",
   "execution_count": null,
   "id": "5006c2ed",
   "metadata": {},
   "outputs": [],
   "source": [
    "#Anonymous Function (lambda)"
   ]
  },
  {
   "cell_type": "code",
   "execution_count": null,
   "id": "77a4e17b",
   "metadata": {},
   "outputs": [],
   "source": [
    "#--------------------------------------------------input/output----------------------------------------------------------------#\n",
    "n=input(\"Enter your expression \");   \n",
    "print (\"The evaluated expression is \", n)\n",
    "\n"
   ]
  },
  {
   "cell_type": "code",
   "execution_count": null,
   "id": "17bdb695",
   "metadata": {},
   "outputs": [],
   "source": []
  },
  {
   "cell_type": "code",
   "execution_count": 8,
   "id": "54675f16",
   "metadata": {},
   "outputs": [],
   "source": []
  },
  {
   "cell_type": "code",
   "execution_count": null,
   "id": "71ca6d1f",
   "metadata": {},
   "outputs": [],
   "source": []
  },
  {
   "cell_type": "code",
   "execution_count": null,
   "id": "c2421b17",
   "metadata": {},
   "outputs": [],
   "source": []
  }
 ],
 "metadata": {
  "kernelspec": {
   "display_name": "Python 3 (ipykernel)",
   "language": "python",
   "name": "python3"
  },
  "language_info": {
   "codemirror_mode": {
    "name": "ipython",
    "version": 3
   },
   "file_extension": ".py",
   "mimetype": "text/x-python",
   "name": "python",
   "nbconvert_exporter": "python",
   "pygments_lexer": "ipython3",
   "version": "3.9.12"
  }
 },
 "nbformat": 4,
 "nbformat_minor": 5
}
